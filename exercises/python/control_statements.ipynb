{
  "cells": [
    {
      "cell_type": "markdown",
      "metadata": {
        "id": "view-in-github",
        "colab_type": "text"
      },
      "source": [
        "<a href=\"https://colab.research.google.com/github/Clarion231/-Self-Portfolio/blob/main/exercises/python/control_statements.ipynb\" target=\"_parent\"><img src=\"https://colab.research.google.com/assets/colab-badge.svg\" alt=\"Open In Colab\"/></a>"
      ]
    },
    {
      "cell_type": "markdown",
      "id": "broad-significance",
      "metadata": {
        "id": "broad-significance"
      },
      "source": [
        "# Control Statements"
      ]
    },
    {
      "cell_type": "markdown",
      "id": "mighty-picnic",
      "metadata": {
        "id": "mighty-picnic"
      },
      "source": [
        "## Check 2 Numbers are Dividable\n",
        "Write a Python prgoram that takes 2 numbers and prints whether the first one is dividable by the second one or not. For example, if the user inputs 10 and 5, the program should print `\"10 is dividable by 5\"`."
      ]
    },
    {
      "cell_type": "code",
      "execution_count": 2,
      "id": "everyday-league",
      "metadata": {
        "id": "everyday-league",
        "outputId": "b6d0b5dd-d522-4856-e35f-cd4e4cf41be5",
        "colab": {
          "base_uri": "https://localhost:8080/"
        }
      },
      "outputs": [
        {
          "output_type": "stream",
          "name": "stdout",
          "text": [
            "it has a reminder\n"
          ]
        }
      ],
      "source": [
        "bool(10%3)\n",
        "\n",
        "a= 12337896\n",
        "b=3\n",
        "\n",
        "if (a%b) ==0:\n",
        "   print(\")\n",
        "\n",
        "\n"
      ]
    },
    {
      "cell_type": "markdown",
      "id": "certified-smell",
      "metadata": {
        "id": "certified-smell"
      },
      "source": [
        "## Check a Website Address Has .com\n",
        "Write a Python program that takes a website address and prints out whether it ends with `.com` or not. For example, given the string `\"www.google.com\"`, the program should print `\"www.google.com ends with .com\"`."
      ]
    },
    {
      "cell_type": "code",
      "execution_count": 3,
      "id": "framed-index",
      "metadata": {
        "id": "framed-index",
        "outputId": "5e3cde70-b764-4084-ce38-7838d1790033",
        "colab": {
          "base_uri": "https://localhost:8080/",
          "height": 35
        }
      },
      "outputs": [
        {
          "output_type": "execute_result",
          "data": {
            "text/plain": [
              "'www.gisma.c'"
            ],
            "application/vnd.google.colaboratory.intrinsic+json": {
              "type": "string"
            }
          },
          "metadata": {},
          "execution_count": 3
        }
      ],
      "source": [
        "website = \"www.gisma.com\"\n",
        "\n",
        "#poor way\n",
        " if website[-4:] == \".com\"\n",
        "    print(f\"{website} ends with .com\")\n",
        "\n",
        "#pythonic\n",
        "website_splitted = website.split(\".\")\n",
        "\n",
        "  print(f\"{website} ends with .com\")\n",
        "\n",
        "\n",
        "\n",
        "\n",
        "\n",
        "\n",
        "\n"
      ]
    },
    {
      "cell_type": "markdown",
      "id": "lonely-hollow",
      "metadata": {
        "id": "lonely-hollow"
      },
      "source": [
        "## Remove Non-String List Elements\n",
        "Write a Python program that takes a list and create another list that only contains string elements of the first list. For example, given the list `[1, \"hello\", 4.3, True, \"bye\"]`, the program should define a list `[\"hello\", \"bye\"]`."
      ]
    },
    {
      "cell_type": "code",
      "execution_count": 14,
      "id": "compound-commissioner",
      "metadata": {
        "id": "compound-commissioner",
        "outputId": "8a70a17c-2325-493e-b2f6-6b19fa6d319d",
        "colab": {
          "base_uri": "https://localhost:8080/"
        }
      },
      "outputs": [
        {
          "output_type": "stream",
          "name": "stdout",
          "text": [
            "hello <class 'str'>\n",
            "bye <class 'str'>\n",
            "['hello', 'bye']\n",
            "['hello', 'bye']\n"
          ]
        }
      ],
      "source": [
        "a = [1, \"hello\", 4.3, True, \"bye\"]\n",
        "b = []\n",
        "\n",
        "#for loop\n",
        "for i in a:\n",
        "\n",
        "  if type(i) == str:\n",
        "    b.append(i)\n",
        "    print(i, type(i))\n",
        "\n",
        "print(b)\n",
        "\n",
        "#pythonic\n",
        "b = [i for i in a if type(i) == str]\n",
        "print(b)\n",
        "\n",
        "\n"
      ]
    },
    {
      "cell_type": "markdown",
      "id": "conceptual-lobby",
      "metadata": {
        "id": "conceptual-lobby"
      },
      "source": [
        "## Compare Numbers\n",
        "Write a Python program that takes an integer, compares it to a predefined number, and tells the user to guess a larger or smaller number. For example, suppose the predefined number is 10 and the user inputs 7. The program should print `\"7 is too small!\"`."
      ]
    },
    {
      "cell_type": "code",
      "execution_count": 16,
      "id": "religious-leonard",
      "metadata": {
        "id": "religious-leonard",
        "outputId": "12ce5c5c-b32c-4fdb-c25b-4ec9182ffa76",
        "colab": {
          "base_uri": "https://localhost:8080/"
        }
      },
      "outputs": [
        {
          "output_type": "stream",
          "name": "stdout",
          "text": [
            "input:34\n",
            "34 is too small\n",
            "input:21\n",
            "21 is too small\n",
            "input:200\n",
            "200 is too big\n",
            "input:37\n",
            "you guessed correctly\n"
          ]
        }
      ],
      "source": [
        "a = 37\n",
        "\n",
        "guess = int(input(\"input:\"))\n",
        "\n",
        "while(a !=guess):\n",
        "  if a> guess:\n",
        "    print(f\"{guess} is too small\")\n",
        "  else:\n",
        "    print(f\"{guess} is too big\")\n",
        "  guess = int(input(\"input:\"))\n",
        "\n",
        "print(\"you guessed correctly\")\n",
        "\n",
        "\n",
        "\n",
        "\n",
        "\n"
      ]
    },
    {
      "cell_type": "markdown",
      "id": "gorgeous-knitting",
      "metadata": {
        "id": "gorgeous-knitting"
      },
      "source": [
        "## Sum Even Numbers\n",
        "Write a Python program that computes the sum of even numbers in a given list of integers."
      ]
    },
    {
      "cell_type": "code",
      "execution_count": 22,
      "id": "artificial-professor",
      "metadata": {
        "id": "artificial-professor",
        "outputId": "fc2982f4-a60c-45f7-cc37-7a984111e5ee",
        "colab": {
          "base_uri": "https://localhost:8080/"
        }
      },
      "outputs": [
        {
          "output_type": "stream",
          "name": "stdout",
          "text": [
            "214\n"
          ]
        },
        {
          "output_type": "execute_result",
          "data": {
            "text/plain": [
              "214"
            ]
          },
          "metadata": {},
          "execution_count": 22
        }
      ],
      "source": [
        "a= [123,34,68,45,34,46,7,8,2,45,22]\n",
        "s=0\n",
        "\n",
        "for i in a:\n",
        "  if i%2 ==0:\n",
        "    s+=i\n",
        "print(s)\n",
        "\n",
        "#pythonic\n",
        "\n",
        "evens = [i for i in  a if i%2 ==0]\n",
        "sum(evens)\n",
        "\n",
        "\n",
        "\n",
        "\n"
      ]
    },
    {
      "cell_type": "markdown",
      "id": "e3044c58",
      "metadata": {
        "id": "e3044c58"
      },
      "source": [
        "## Find All Divisors\n",
        "Write a Python prgoram that find all divisors of a given positive integer and store them in a list. For example, given 10, the resulting list should be `[1, 2, 5, 10]`."
      ]
    },
    {
      "cell_type": "code",
      "source": [
        "n =10\n",
        "divisors =[]\n",
        "\n",
        "for i in range(1,n+1):\n",
        "   if 10%i ==0:\n",
        "    divisors.append(i)\n",
        "    print(i)\n",
        "\n",
        "\n",
        "\n",
        "\n",
        "\n"
      ],
      "metadata": {
        "id": "bV-G1_1c_ymk",
        "outputId": "3c1a6d2b-a704-4519-f13c-3b1cba731c1b",
        "colab": {
          "base_uri": "https://localhost:8080/"
        }
      },
      "id": "bV-G1_1c_ymk",
      "execution_count": 26,
      "outputs": [
        {
          "output_type": "stream",
          "name": "stdout",
          "text": [
            "1\n",
            "2\n",
            "5\n",
            "10\n"
          ]
        }
      ]
    },
    {
      "cell_type": "code",
      "execution_count": null,
      "id": "9bee6850",
      "metadata": {
        "id": "9bee6850"
      },
      "outputs": [],
      "source": []
    },
    {
      "cell_type": "markdown",
      "id": "41b462e9",
      "metadata": {
        "id": "41b462e9"
      },
      "source": [
        "## Find the Largest Word\n",
        "Write a Python program that finds the largest word in a given input string. For example, given the string `\"hello how are you\"`, the program should print `\"hello\"`."
      ]
    },
    {
      "cell_type": "code",
      "source": [
        "len(\"hello\")\n",
        "s = \"write a python that finds the largest word in a given input string.\"\n",
        "s_list = s.strip(\".\").split(\" \")\n",
        "largest_word =\"\"\n",
        "\n",
        "for word in s_list:\n",
        "  print(word)\n",
        "  if len(word) > len(largest_word):\n",
        "    largest_word = word\n",
        "\n",
        "print(largest_word)\n",
        "\n"
      ],
      "metadata": {
        "id": "fwQ0fcSxB0uo",
        "outputId": "b8731485-b57e-4048-8c1d-7a2ec6df3736",
        "colab": {
          "base_uri": "https://localhost:8080/"
        }
      },
      "id": "fwQ0fcSxB0uo",
      "execution_count": 32,
      "outputs": [
        {
          "output_type": "stream",
          "name": "stdout",
          "text": [
            "write\n",
            "a\n",
            "python\n",
            "that\n",
            "finds\n",
            "the\n",
            "largest\n",
            "word\n",
            "in\n",
            "a\n",
            "given\n",
            "input\n",
            "string\n",
            "largest\n"
          ]
        }
      ]
    },
    {
      "cell_type": "code",
      "execution_count": null,
      "id": "13037cad",
      "metadata": {
        "id": "13037cad"
      },
      "outputs": [],
      "source": []
    },
    {
      "cell_type": "markdown",
      "id": "3b71775e",
      "metadata": {
        "id": "3b71775e"
      },
      "source": [
        "## Count the Frequency of List Elements\n",
        "Write a Python program that counts the frequency of each element in a given list and store them in a dictionary. For example, given the list `[111, \"hello\", 222, \"hello\", 111]`, the program should define a dictionary `{111: 2, \"hello\": 2, 222: 1}`."
      ]
    },
    {
      "cell_type": "code",
      "execution_count": 35,
      "id": "fdb69cdb",
      "metadata": {
        "id": "fdb69cdb",
        "outputId": "1eb96b42-7554-4408-ffa2-9c9b5f9fb2bf",
        "colab": {
          "base_uri": "https://localhost:8080/"
        }
      },
      "outputs": [
        {
          "output_type": "stream",
          "name": "stdout",
          "text": [
            "{'i': 2, 'have': 1, 'a': 1, 'retake': 1, 'on': 1, 'statistics': 1, 'and': 1, 'dont': 1, 'want': 1, 'to': 1, 'do': 1, 'it': 1, 'again': 1}\n"
          ]
        }
      ],
      "source": [
        "text = 'i have a retake on statistics and i dont want to do it again'\n",
        "text_list=text.split(\" \")\n",
        "d=dict() #key: word -> value counts\n",
        "for word in text_list:\n",
        "  if word  in d:\n",
        "    d[word] +=1\n",
        "  else:\n",
        "    d[word]=1\n",
        "print(d)\n",
        "\n",
        "\n"
      ]
    }
  ],
  "metadata": {
    "kernelspec": {
      "display_name": "Python 3",
      "language": "python",
      "name": "python3"
    },
    "language_info": {
      "codemirror_mode": {
        "name": "ipython",
        "version": 3
      },
      "file_extension": ".py",
      "mimetype": "text/x-python",
      "name": "python",
      "nbconvert_exporter": "python",
      "pygments_lexer": "ipython3",
      "version": "3.8.5"
    },
    "colab": {
      "provenance": [],
      "include_colab_link": true
    }
  },
  "nbformat": 4,
  "nbformat_minor": 5
}